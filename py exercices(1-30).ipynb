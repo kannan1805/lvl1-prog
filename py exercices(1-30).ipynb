{
 "cells": [
  {
   "cell_type": "code",
   "execution_count": 1,
   "id": "5aeb4312",
   "metadata": {},
   "outputs": [
    {
     "name": "stdout",
     "output_type": "stream",
     "text": [
      "hello world\n"
     ]
    }
   ],
   "source": [
    "print(\"hello world\")"
   ]
  },
  {
   "cell_type": "code",
   "execution_count": 2,
   "id": "1909d2d8",
   "metadata": {},
   "outputs": [
    {
     "name": "stdout",
     "output_type": "stream",
     "text": [
      "enter the first number: 2\n",
      "enter the second number:3\n",
      "the addition= 5\n"
     ]
    }
   ],
   "source": [
    "a=int(input(\"enter the first number: \"))\n",
    "b=int(input(\"enter the second number:\"))\n",
    "c=a+b\n",
    "print(\"the addition=\",c)"
   ]
  },
  {
   "cell_type": "code",
   "execution_count": 5,
   "id": "b75eba22",
   "metadata": {},
   "outputs": [
    {
     "name": "stdout",
     "output_type": "stream",
     "text": [
      "enter 1st variable:3\n",
      "enter the 2nd variable:4\n",
      "swapped values:\n",
      "1st variable: 4\n",
      "2nd variable: 3\n"
     ]
    }
   ],
   "source": [
    "a=int(input(\"enter 1st variable:\"))\n",
    "b=int(input(\"enter the 2nd variable:\"))\n",
    "a,b=b,a\n",
    "print(\"swapped values:\")\n",
    "print(\"1st variable:\",a)\n",
    "print(\"2nd variable:\",b)"
   ]
  },
  {
   "cell_type": "code",
   "execution_count": 6,
   "id": "be969539",
   "metadata": {},
   "outputs": [
    {
     "name": "stdout",
     "output_type": "stream",
     "text": [
      "Enter the distance in kilometers: 45\n",
      "The distance in miles is: 27.961695\n"
     ]
    }
   ],
   "source": [
    "#conversion of entered kilometers\n",
    "\n",
    "kilometers = float(input(\"Enter the distance in kilometers: \"))\n",
    "conversion_factor = 0.621371\n",
    "miles = kilometers * conversion_factor\n",
    "print(\"The distance in miles is:\", miles)\n"
   ]
  },
  {
   "cell_type": "code",
   "execution_count": 7,
   "id": "2f275a2c",
   "metadata": {},
   "outputs": [
    {
     "name": "stdout",
     "output_type": "stream",
     "text": [
      "Enter a number: -4\n",
      "The number is negative.\n"
     ]
    }
   ],
   "source": [
    "#negative or positive\n",
    "\n",
    "number = float(input(\"Enter a number: \"))\n",
    "\n",
    "if number > 0:\n",
    "    print(\"The number is positive.\")\n",
    "elif number < 0:\n",
    "    print(\"The number is negative.\")\n",
    "else:\n",
    "    print(\"The number is 0.\")\n"
   ]
  },
  {
   "cell_type": "code",
   "execution_count": 8,
   "id": "0c0eb738",
   "metadata": {},
   "outputs": [
    {
     "name": "stdout",
     "output_type": "stream",
     "text": [
      "Enter a year: 2004\n",
      "The year is a leap year.\n"
     ]
    }
   ],
   "source": [
    "#leap year\n",
    "\n",
    "year = int(input(\"Enter a year: \"))\n",
    "\n",
    "if (year % 4 == 0 and year % 100 != 0) or year % 400 == 0:\n",
    "    print(\"The year is a leap year.\")\n",
    "else:\n",
    "    print(\"The year is not a leap year.\")\n"
   ]
  },
  {
   "cell_type": "code",
   "execution_count": 9,
   "id": "6ad96fc3",
   "metadata": {},
   "outputs": [
    {
     "name": "stdout",
     "output_type": "stream",
     "text": [
      "Enter the start of the interval: 4\n",
      "Enter the end of the interval: 9\n",
      "Prime numbers between 4 and 9 are:\n",
      "5\n",
      "7\n"
     ]
    }
   ],
   "source": [
    "#prime number between range\n",
    "\n",
    "start = int(input(\"Enter the start of the interval: \"))\n",
    "end = int(input(\"Enter the end of the interval: \"))\n",
    "\n",
    "print(\"Prime numbers between\", start, \"and\", end, \"are:\")\n",
    "\n",
    "for num in range(start, end + 1):\n",
    "    if num > 1:\n",
    "        for i in range(2, num):\n",
    "            if (num % i) == 0:\n",
    "                break\n",
    "        else:\n",
    "            print(num)\n"
   ]
  },
  {
   "cell_type": "code",
   "execution_count": 10,
   "id": "64edc11e",
   "metadata": {},
   "outputs": [
    {
     "name": "stdout",
     "output_type": "stream",
     "text": [
      "Enter the number of terms: 4\n",
      "Fibonacci sequence up to 4 terms:\n",
      "0\n",
      "1\n",
      "1\n",
      "2\n"
     ]
    }
   ],
   "source": [
    "#fibonacci series\n",
    "\n",
    "n = int(input(\"Enter the number of terms: \"))\n",
    "\n",
    "# First two terms\n",
    "a, b = 0, 1\n",
    "count = 0\n",
    "\n",
    "if n <= 0:\n",
    "    print(\"Please enter a positive integer.\")\n",
    "elif n == 1:\n",
    "    print(\"Fibonacci sequence up to\", n, \"term:\")\n",
    "    print(a)\n",
    "else:\n",
    "    print(\"Fibonacci sequence up to\", n, \"terms:\")\n",
    "    while count < n:\n",
    "        print(a)\n",
    "        nth = a + b\n",
    "        # Update values for the next iteration\n",
    "        a = b\n",
    "        b = nth\n",
    "        count += 1\n"
   ]
  },
  {
   "cell_type": "code",
   "execution_count": 11,
   "id": "5dc6afbd",
   "metadata": {},
   "outputs": [
    {
     "name": "stdout",
     "output_type": "stream",
     "text": [
      "Enter a number: 4\n",
      "4 is an Armstrong number.\n"
     ]
    }
   ],
   "source": [
    "#armstrong number\n",
    "\n",
    "num = int(input(\"Enter a number: \"))\n",
    "\n",
    "# Convert the number to a string and find its length\n",
    "num_str = str(num)\n",
    "n = len(num_str)\n",
    "\n",
    "# Calculate the sum of the cubes of the digits\n",
    "sum = 0\n",
    "for digit in num_str:\n",
    "    sum += int(digit) ** n\n",
    "\n",
    "# Check if the sum is equal to the original number\n",
    "if sum == num:\n",
    "    print(num, \"is an Armstrong number.\")\n",
    "else:\n",
    "    print(num, \"is not an Armstrong number.\")\n",
    "\n",
    "\n"
   ]
  },
  {
   "cell_type": "code",
   "execution_count": 12,
   "id": "03a34169",
   "metadata": {},
   "outputs": [
    {
     "name": "stdout",
     "output_type": "stream",
     "text": [
      "Enter the value of n: 5\n",
      "The sum of natural numbers up to 5 is: 15\n"
     ]
    }
   ],
   "source": [
    "#sum of natural numbers upto nth term\n",
    "\n",
    "n = int(input(\"Enter the value of n: \"))\n",
    "\n",
    "sum = (n * (n + 1)) // 2\n",
    "\n",
    "print(\"The sum of natural numbers up to\", n, \"is:\", sum)\n",
    "\n"
   ]
  },
  {
   "cell_type": "code",
   "execution_count": 14,
   "id": "350b484f",
   "metadata": {},
   "outputs": [
    {
     "name": "stdout",
     "output_type": "stream",
     "text": [
      "*\n",
      "**\n",
      "***\n",
      "****\n",
      "*****\n",
      "******\n",
      "*******\n",
      "********\n",
      "*********\n",
      "**********\n"
     ]
    }
   ],
   "source": [
    "#Write a function called show_stars(rows)\n",
    "\n",
    "def show_stars(rows):\n",
    "    for i in range(1, rows + 1):\n",
    "        print('*' * i)\n",
    "\n",
    "# Test the function\n",
    "show_stars(10)\n"
   ]
  },
  {
   "cell_type": "code",
   "execution_count": 15,
   "id": "e0f3cf33",
   "metadata": {},
   "outputs": [
    {
     "name": "stdout",
     "output_type": "stream",
     "text": [
      "Enter a string: kannan\n",
      "Enter the index to remove characters up to: 2\n",
      "New string: nan\n"
     ]
    }
   ],
   "source": [
    "#remove characters from the string upto index\n",
    "\n",
    "\n",
    "def remove_chars(string, n):\n",
    "    new_string = string[n+1:]\n",
    "    return new_string\n",
    "\n",
    "# Test the function\n",
    "input_string = input(\"Enter a string: \")\n",
    "index = int(input(\"Enter the index to remove characters up to: \"))\n",
    "\n",
    "new_string = remove_chars(input_string, index)\n",
    "print(\"New string:\", new_string)\n"
   ]
  },
  {
   "cell_type": "code",
   "execution_count": 17,
   "id": "52d4f901",
   "metadata": {},
   "outputs": [
    {
     "name": "stdout",
     "output_type": "stream",
     "text": [
      "Numbers divisible by 5:\n",
      "10\n",
      "15\n",
      "20\n",
      "30\n",
      "40\n",
      "45\n",
      "50\n"
     ]
    }
   ],
   "source": [
    "#print the numbers only divisible by 5\n",
    "\n",
    "def print_divisible_by_five(numbers):\n",
    "    for number in numbers:\n",
    "        if number % 5 == 0:\n",
    "            print(number)\n",
    "\n",
    "# Test the function\n",
    "number_list = [10, 15, 20, 66, 30, 36, 40, 45, 50]\n",
    "print(\"Numbers divisible by 5:\")\n",
    "print_divisible_by_five(number_list)\n"
   ]
  },
  {
   "cell_type": "code",
   "execution_count": 18,
   "id": "1c257ae6",
   "metadata": {},
   "outputs": [
    {
     "name": "stdout",
     "output_type": "stream",
     "text": [
      "Enter a string: jackdaniels\n",
      "Number of occurrences of 'Hi': 0\n"
     ]
    }
   ],
   "source": [
    "def count_hi_occurrences(string):\n",
    "    count = 0\n",
    "    index = 0\n",
    "    while True:\n",
    "        index = string.find(\"Hi\", index)\n",
    "        if index == -1:\n",
    "            break\n",
    "        count += 1\n",
    "        index += 2  # Move index to skip the matched \"Hi\"\n",
    "    return count\n",
    "\n",
    "# Test the function\n",
    "input_string = input(\"Enter a string: \")\n",
    "occurrences = count_hi_occurrences(input_string)\n",
    "print(\"Number of occurrences of 'Hi':\", occurrences)\n"
   ]
  },
  {
   "cell_type": "code",
   "execution_count": 19,
   "id": "1e577c79",
   "metadata": {},
   "outputs": [
    {
     "name": "stdout",
     "output_type": "stream",
     "text": [
      "1 \n",
      "2 2 \n",
      "3 3 3 \n",
      "4 4 4 4 \n",
      "5 5 5 5 5 \n"
     ]
    }
   ],
   "source": [
    "n = 5\n",
    "\n",
    "for i in range(1, n+1):\n",
    "    for j in range(i):\n",
    "        print(i, end=' ')\n",
    "    print()\n",
    "\n"
   ]
  },
  {
   "cell_type": "code",
   "execution_count": 1,
   "id": "e9f9113d",
   "metadata": {},
   "outputs": [
    {
     "name": "stdout",
     "output_type": "stream",
     "text": [
      "Enter a number: 414\n",
      "414 is a palindrome number\n"
     ]
    }
   ],
   "source": [
    "def is_palindrome_number(num):\n",
    "    # Convert the number to a string\n",
    "    num_str = str(num)\n",
    "    # Reverse the string using slicing\n",
    "    reversed_str = num_str[::-1]\n",
    "    # Convert the reversed string back to an integer\n",
    "    reversed_num = int(reversed_str)\n",
    "    # Check if the reversed number is equal to the original number\n",
    "    if reversed_num == num:\n",
    "        return True\n",
    "    else:\n",
    "        return False\n",
    "\n",
    "# Test the function\n",
    "num = int(input(\"Enter a number: \"))\n",
    "if is_palindrome_number(num):\n",
    "    print(num, \"is a palindrome number\")\n",
    "else:\n",
    "    print(num, \"is not a palindrome number\")\n"
   ]
  },
  {
   "cell_type": "code",
   "execution_count": 3,
   "id": "e3e05422",
   "metadata": {},
   "outputs": [
    {
     "name": "stdout",
     "output_type": "stream",
     "text": [
      "Enter a list of elements separated by space: s d f g h \n",
      "Interchanged list: ['h', 'd', 'f', 'g', 's']\n"
     ]
    }
   ],
   "source": [
    "def interchange_first_last_elements(lst):\n",
    "    if len(lst) >= 2:\n",
    "        lst[0], lst[-1] = lst[-1], lst[0]\n",
    "    return lst\n",
    "\n",
    "# Test the function\n",
    "input_list = input(\"Enter a list of elements separated by space: \").split()\n",
    "interchanged_list = interchange_first_last_elements(input_list)\n",
    "print(\"Interchanged list:\", interchanged_list)\n"
   ]
  },
  {
   "cell_type": "code",
   "execution_count": 4,
   "id": "8b31f45d",
   "metadata": {},
   "outputs": [
    {
     "name": "stdout",
     "output_type": "stream",
     "text": [
      "Enter a list of elements separated by space: sakthi kannan guna\n",
      "Enter the index of the first element to swap: 0\n",
      "Enter the index of the second element to swap: 2\n",
      "Swapped list: ['guna', 'kannan', 'sakthi']\n"
     ]
    }
   ],
   "source": [
    "def swap_elements(lst, index1, index2):\n",
    "    if 0 <= index1 < len(lst) and 0 <= index2 < len(lst):\n",
    "        lst[index1], lst[index2] = lst[index2], lst[index1]\n",
    "    return lst\n",
    "\n",
    "# Test the function\n",
    "input_list = input(\"Enter a list of elements separated by space: \").split()\n",
    "index1 = int(input(\"Enter the index of the first element to swap: \"))\n",
    "index2 = int(input(\"Enter the index of the second element to swap: \"))\n",
    "\n",
    "swapped_list = swap_elements(input_list, index1, index2)\n",
    "print(\"Swapped list:\", swapped_list)\n"
   ]
  },
  {
   "cell_type": "code",
   "execution_count": 5,
   "id": "2b613073",
   "metadata": {},
   "outputs": [
    {
     "name": "stdout",
     "output_type": "stream",
     "text": [
      "Length of the list: 5\n"
     ]
    }
   ],
   "source": [
    "my_list = [1, 2, 3, 4, 5]\n",
    "length = len(my_list)\n",
    "print(\"Length of the list:\", length)"
   ]
  },
  {
   "cell_type": "code",
   "execution_count": 6,
   "id": "9d7afc65",
   "metadata": {},
   "outputs": [
    {
     "name": "stdout",
     "output_type": "stream",
     "text": [
      "The maximum number is: 20\n"
     ]
    }
   ],
   "source": [
    "num1 = 10\n",
    "num2 = 20\n",
    "\n",
    "maximum = max(num1, num2)\n",
    "\n",
    "print(\"The maximum number is:\", maximum)\n"
   ]
  },
  {
   "cell_type": "code",
   "execution_count": 1,
   "id": "901c70d3",
   "metadata": {},
   "outputs": [
    {
     "name": "stdout",
     "output_type": "stream",
     "text": [
      "enter the first number:3\n",
      "enter the second number:4\n",
      "3\n"
     ]
    }
   ],
   "source": [
    "#minimum of two numbers\n",
    "\n",
    "num1 = int(input(\"enter the first number:\"))\n",
    "num2 = int(input(\"enter the second number:\"))\n",
    "\n",
    "minimum = min(num1, num2)\n",
    "print(minimum)\n",
    "\n"
   ]
  },
  {
   "cell_type": "code",
   "execution_count": 7,
   "id": "f9c72fb5",
   "metadata": {},
   "outputs": [
    {
     "name": "stdout",
     "output_type": "stream",
     "text": [
      "Enter a string: level\n",
      "The string is a palindrome.\n"
     ]
    }
   ],
   "source": [
    "#STRING EXERCISES\n",
    "\n",
    "#symmetrical or palindrome\n",
    "\n",
    "\n",
    "def palindrome(string):\n",
    "    # Remove whitespace and convert to lowercase\n",
    "    \n",
    "    string = string.replace(\" \", \"\").lower()\n",
    "    \n",
    "    # Compare the string with its reverse\n",
    "    \n",
    "    return string == string[::-1]\n",
    "\n",
    "# Get input from the user\n",
    "\n",
    "user_input = input(\"Enter a string: \")\n",
    "\n",
    "# Check if the input string is a palindrome\n",
    "\n",
    "if palindrome(user_input):\n",
    "    print(\"The string is a palindrome.\")\n",
    "else:\n",
    "    print(\"The string is not a palindrome.\")\n",
    "\n",
    "\n"
   ]
  },
  {
   "cell_type": "code",
   "execution_count": 20,
   "id": "5f6b832f",
   "metadata": {},
   "outputs": [
    {
     "name": "stdout",
     "output_type": "stream",
     "text": [
      "Enter a string: hello world\n",
      "Reversed string: world hello\n"
     ]
    }
   ],
   "source": [
    "#reverse the string\n",
    "\n",
    "def reverse_words(string):\n",
    "    # Split the string into words\n",
    "    \n",
    "    words = string.split()\n",
    "    \n",
    "    # Reverse the order of the words\n",
    "    \n",
    "    reversed_words = words[::-1]\n",
    "    \n",
    "    # Join the reversed words back into a string\n",
    "    \n",
    "    reversed_string = \" \".join(reversed_words)\n",
    "    return reversed_string\n",
    "\n",
    "# Get input from the user\n",
    "\n",
    "str1= input(\"Enter a string: \")\n",
    "\n",
    "# Reverse the words in the input string\n",
    "\n",
    "reversed_string = reverse_words(str1)\n",
    "\n",
    "# Print the reversed string\n",
    "print(\"Reversed string:\", reversed_string)\n"
   ]
  },
  {
   "cell_type": "code",
   "execution_count": 1,
   "id": "a36df443",
   "metadata": {},
   "outputs": [
    {
     "name": "stdout",
     "output_type": "stream",
     "text": [
      "enter a string : hello\n",
      "enter a index to remove:3\n",
      "helo\n"
     ]
    }
   ],
   "source": [
    "#remove i’th character from string \n",
    "\n",
    "def remove_character(string, i):\n",
    "    return string[:i] + string[i+1:]\n",
    "\n",
    "# Test the function\n",
    "str = (input(\"enter a string : \"))\n",
    "index = int(input(\"enter a index to remove:\"))\n",
    "new_string = remove_character(str, index)\n",
    "print(new_string)\n"
   ]
  },
  {
   "cell_type": "code",
   "execution_count": 2,
   "id": "ef5c07fd",
   "metadata": {},
   "outputs": [
    {
     "name": "stdout",
     "output_type": "stream",
     "text": [
      "enter a string :hello\n",
      "Length of the string: 5\n"
     ]
    }
   ],
   "source": [
    "#length of a string \n",
    "\n",
    "\n",
    "str=input(\"enter a string :\")\n",
    "length = len(str)\n",
    "print(\"Length of the string:\", length)\n"
   ]
  },
  {
   "cell_type": "code",
   "execution_count": 19,
   "id": "422e0a29",
   "metadata": {},
   "outputs": [
    {
     "name": "stdout",
     "output_type": "stream",
     "text": [
      "Enter a string: this is a sample string with the even words\n",
      "Even-length words:\n",
      "this\n",
      "is\n",
      "sample\n",
      "string\n",
      "with\n",
      "even\n"
     ]
    }
   ],
   "source": [
    "#to print the even words in a string\n",
    "\n",
    "\n",
    "def print_even_length_words(string):\n",
    "    # Split the string into words\n",
    "    \n",
    "    words = string.split()\n",
    "\n",
    "    # Iterate over the words and print the even-length ones\n",
    "    \n",
    "    for i in words:\n",
    "        if len(i) % 2 == 0:\n",
    "            print(i)\n",
    "\n",
    "# Get input from the user\n",
    "\n",
    "str = input(\"Enter a string: \")\n",
    "\n",
    "# Print the even-length words in the input string\n",
    "\n",
    "print(\"Even-length words:\")\n",
    "print_even_length_words(str)\n"
   ]
  },
  {
   "cell_type": "code",
   "execution_count": 16,
   "id": "5d053711",
   "metadata": {},
   "outputs": [
    {
     "name": "stdout",
     "output_type": "stream",
     "text": [
      "Size of the tuple: 4\n"
     ]
    }
   ],
   "source": [
    "#TUPLE EXERCISES \n",
    "\n",
    "#to find the length of  a tuple\n",
    "\n",
    "\n",
    "tuple1 = (\"apple\", \"banana\", \"cherry\", \"orange\")\n",
    "size = len(tuple1)\n",
    "print(\"Size of the tuple:\", size)\n",
    "\n"
   ]
  },
  {
   "cell_type": "code",
   "execution_count": 3,
   "id": "78233df3",
   "metadata": {},
   "outputs": [
    {
     "name": "stdout",
     "output_type": "stream",
     "text": [
      "enter a value:4\n",
      "Max 4 elements: [10, 9, 8, 7]\n",
      "Min 4 elements: [1, 2, 3, 4]\n"
     ]
    }
   ],
   "source": [
    "#maximum and minimum K elements\n",
    "\n",
    "def find_max_min_k_elements(tuple1, k):\n",
    "    max_k = sorted(tuple1,reverse=True)[:k]\n",
    "    min_k = sorted(tuple1)[:k]\n",
    "    return max_k, min_k\n",
    "\n",
    "# Test the function\n",
    "\n",
    "tuple1 = (10, 5, 8, 3, 6, 2, 1, 9, 4, 7)\n",
    "k = int(input(\"enter a value:\"))\n",
    "max_k_elements, min_k_elements = find_max_min_k_elements(tuple1, k)\n",
    "\n",
    "print(f\"Max {k} elements:\", max_k_elements)\n",
    "print(f\"Min {k} elements:\", min_k_elements)\n"
   ]
  },
  {
   "cell_type": "code",
   "execution_count": 14,
   "id": "3b939975",
   "metadata": {},
   "outputs": [
    {
     "name": "stdout",
     "output_type": "stream",
     "text": [
      "Enter a tuple of numbers separated by commas: 4,5,6\n",
      "Sum of tuple elements: 15\n"
     ]
    }
   ],
   "source": [
    "#to calculate tuple sum\n",
    "\n",
    "def calculate_tuple_sum(tuple1):\n",
    "    total = sum(tuple1)\n",
    "    return total\n",
    "\n",
    "# Get input from the user\n",
    "\n",
    "user_tup= input(\"Enter a tuple of numbers separated by commas: \")\n",
    "\n",
    "\n",
    "try:\n",
    "# Convert the input string into a tuple\n",
    "    tuple1 = tuple(map(int, user_tup.split(\",\")))\n",
    "\n",
    "# Calculate the sum of tuple elements\n",
    "    tuple_sum = calculate_tuple_sum(tuple1)\n",
    "\n",
    "# Print the sum\n",
    "    print(\"Sum of tuple elements:\", tuple_sum)\n",
    "\n",
    "\n",
    "except ValueError:\n",
    "    print(\"Invalid input. Please enter a valid tuple of numbers.\")"
   ]
  },
  {
   "cell_type": "code",
   "execution_count": 15,
   "id": "2562d7eb",
   "metadata": {},
   "outputs": [
    {
     "name": "stdout",
     "output_type": "stream",
     "text": [
      "Enter the number of rows: 3\n",
      "Enter the number of columns: 3\n",
      "Enter elements for row 1 separated by commas: 1,2,3\n",
      "Enter elements for row 2 separated by commas: 4,5,6\n",
      "Enter elements for row 3 separated by commas: 7,8,9\n",
      "Row-wise sums: [6, 15, 24]\n"
     ]
    }
   ],
   "source": [
    "#Python – Row-wise element Addition in Tuple Matrix\n",
    "\n",
    "\n",
    "def rowwise_element_addition(matrix):\n",
    "    # Perform row-wise element addition\n",
    "    row_sums = [sum(row) for row in matrix]\n",
    "    return row_sums\n",
    "\n",
    "# Get input from the user\n",
    "rows = int(input(\"Enter the number of rows: \"))\n",
    "cols = int(input(\"Enter the number of columns: \"))\n",
    "\n",
    "matrix = []\n",
    "\n",
    "# Prompt the user to enter the matrix elements row by row\n",
    "for i in range(rows):\n",
    "    row = tuple(map(int, input(f\"Enter elements for row {i+1} separated by commas: \").split(\",\")))\n",
    "    matrix.append(row)\n",
    "\n",
    "# Calculate the row-wise sums\n",
    "row_sums = rowwise_element_addition(matrix)\n",
    "\n",
    "# Print the row-wise sums\n",
    "print(\"Row-wise sums:\", row_sums)\n"
   ]
  },
  {
   "cell_type": "code",
   "execution_count": null,
   "id": "2addf64d",
   "metadata": {},
   "outputs": [],
   "source": []
  },
  {
   "cell_type": "code",
   "execution_count": null,
   "id": "f121b64b",
   "metadata": {},
   "outputs": [],
   "source": []
  },
  {
   "cell_type": "code",
   "execution_count": null,
   "id": "c83b3acd",
   "metadata": {},
   "outputs": [],
   "source": []
  },
  {
   "cell_type": "code",
   "execution_count": null,
   "id": "e88eccff",
   "metadata": {},
   "outputs": [],
   "source": []
  }
 ],
 "metadata": {
  "kernelspec": {
   "display_name": "Python 3 (ipykernel)",
   "language": "python",
   "name": "python3"
  },
  "language_info": {
   "codemirror_mode": {
    "name": "ipython",
    "version": 3
   },
   "file_extension": ".py",
   "mimetype": "text/x-python",
   "name": "python",
   "nbconvert_exporter": "python",
   "pygments_lexer": "ipython3",
   "version": "3.10.9"
  }
 },
 "nbformat": 4,
 "nbformat_minor": 5
}
